{
 "cells": [
  {
   "cell_type": "markdown",
   "metadata": {},
   "source": [
    "Task 1: Standard and Poor’s (S&P) 500 Index prediction"
   ]
  },
  {
   "cell_type": "code",
   "execution_count": 1,
   "metadata": {},
   "outputs": [],
   "source": [
    "import numpy as np\n",
    "import pandas as pd\n",
    "import matplotlib.pyplot as plt\n",
    "import seaborn as sns\n",
    "from sklearn.model_selection import train_test_split\n",
    "from sklearn import metrics\n",
    "from sklearn.linear_model import LinearRegression\n",
    "from sklearn.neural_network import MLPClassifier\n",
    "from sklearn.model_selection import GridSearchCV\n",
    "from sklearn.neural_network import MLPRegressor\n",
    "from sklearn.model_selection import cross_val_score\n",
    "from sklearn import preprocessing"
   ]
  },
  {
   "cell_type": "code",
   "execution_count": 2,
   "metadata": {},
   "outputs": [],
   "source": [
    "df = pd.read_csv('sp500_27270.csv')\n",
    "\n",
    "correlations = df.corr()"
   ]
  },
  {
   "cell_type": "code",
   "execution_count": 4,
   "metadata": {
    "scrolled": false
   },
   "outputs": [],
   "source": [
    "#print(correlations)\n",
    "i = 0\n",
    "count = 0\n",
    "finalDF = pd.DataFrame()\n",
    "\n",
    "while(i < len(correlations.iloc[1])):\n",
    "    if(correlations.iloc[1][i] >= 0.95 or correlations.iloc[1][i] <= -0.95):\n",
    "        #print(\"true\")\n",
    "        finalDF = pd.concat([finalDF,df.iloc[:,i]], axis=1)\n",
    "        count = count + 1\n",
    "    \n",
    "    i = i + 1"
   ]
  },
  {
   "cell_type": "code",
   "execution_count": 6,
   "metadata": {},
   "outputs": [],
   "source": [
    "X = finalDF.iloc[:,1:]\n",
    "y = finalDF.iloc[:,0]\n",
    "X_scaled = preprocessing.scale(X)\n",
    "y_scaled = preprocessing.scale(y)\n",
    "\n",
    "#20% of the data was used as the testing data\n",
    "X_train,X_test,Y_train,Y_test = train_test_split(X_scaled,y_scaled,test_size=0.2,random_state=1)"
   ]
  },
  {
   "cell_type": "code",
   "execution_count": 7,
   "metadata": {},
   "outputs": [],
   "source": [
    "mlp = MLPRegressor(\n",
    "    alpha=1e-6,\n",
    "    hidden_layer_sizes=(15,2),\n",
    "    max_iter=2000,\n",
    "    random_state=1,\n",
    "    solver='sgd',\n",
    "    learning_rate_init = 0.005,\n",
    "    early_stopping = True\n",
    "    )"
   ]
  },
  {
   "cell_type": "code",
   "execution_count": 8,
   "metadata": {},
   "outputs": [
    {
     "name": "stdout",
     "output_type": "stream",
     "text": [
      "Using sgd, and learning rate 0.005\n",
      "0.008152457594372711\n",
      "Using sgd, and learning rate 0.003\n",
      "0.010570551999561119\n",
      "Using sgd, and learning rate 0.001\n",
      "0.01877839572776674\n",
      "Using adam, and learning rate 0.005\n",
      "0.004733176345439207\n",
      "Using adam, and learning rate 0.003\n",
      "0.0036943687707376876\n",
      "Using adam, and learning rate 0.001\n",
      "0.005525183654165619\n"
     ]
    }
   ],
   "source": [
    "mlp.fit(X_train,Y_train)\n",
    "#clf.fit(X_train,Y_train)\n",
    "\n",
    "\n",
    "mlppreds = mlp.predict(X_test)\n",
    "#preds = clf.predict(X_test)\n",
    "\n",
    "print(\"Using sgd, and learning rate 0.005\")\n",
    "print(metrics.mean_squared_error(mlppreds, Y_test))\n",
    "\n",
    "print(\"Using sgd, and learning rate 0.003\")\n",
    "mlp = MLPRegressor(\n",
    "    alpha=1e-6,\n",
    "    hidden_layer_sizes=(15,2),\n",
    "    max_iter=2000,\n",
    "    random_state=1,\n",
    "    solver='sgd',\n",
    "    learning_rate_init = 0.003,\n",
    "    early_stopping = True\n",
    "    )\n",
    "mlp.fit(X_train,Y_train)\n",
    "mlppreds = mlp.predict(X_test)\n",
    "print(metrics.mean_squared_error(mlppreds, Y_test))\n",
    "\n",
    "print(\"Using sgd, and learning rate 0.001\")\n",
    "mlp = MLPRegressor(\n",
    "    alpha=1e-6,\n",
    "    hidden_layer_sizes=(15,2),\n",
    "    max_iter=2000,\n",
    "    random_state=1,\n",
    "    solver='sgd',\n",
    "    learning_rate_init = 0.001,\n",
    "    early_stopping = True\n",
    "    )\n",
    "mlp.fit(X_train,Y_train)\n",
    "mlppreds = mlp.predict(X_test)\n",
    "print(metrics.mean_squared_error(mlppreds, Y_test))\n",
    "\n",
    "print(\"Using adam, and learning rate 0.005\")\n",
    "mlp = MLPRegressor(\n",
    "    alpha=1e-6,\n",
    "    hidden_layer_sizes=(15,2),\n",
    "    max_iter=2000,\n",
    "    random_state=1,\n",
    "    solver='adam',\n",
    "    learning_rate_init = 0.005,\n",
    "    early_stopping = True\n",
    "    )\n",
    "mlp.fit(X_train,Y_train)\n",
    "mlppreds = mlp.predict(X_test)\n",
    "print(metrics.mean_squared_error(mlppreds, Y_test))\n",
    "\n",
    "print(\"Using adam, and learning rate 0.003\")\n",
    "mlp = MLPRegressor(\n",
    "    alpha=1e-6,\n",
    "    hidden_layer_sizes=(15,2),\n",
    "    max_iter=2000,\n",
    "    random_state=1,\n",
    "    solver='adam',\n",
    "    learning_rate_init = 0.003,\n",
    "    early_stopping = True\n",
    "    )\n",
    "mlp.fit(X_train,Y_train)\n",
    "mlppreds = mlp.predict(X_test)\n",
    "print(metrics.mean_squared_error(mlppreds, Y_test))\n",
    "\n",
    "\n",
    "print(\"Using adam, and learning rate 0.001\")\n",
    "mlp = MLPRegressor(\n",
    "    alpha=1e-6,\n",
    "    hidden_layer_sizes=(15,2),\n",
    "    max_iter=2000,\n",
    "    random_state=1,\n",
    "    solver='adam',\n",
    "    learning_rate_init = 0.001,\n",
    "    early_stopping = True\n",
    "    )\n",
    "mlp.fit(X_train,Y_train)\n",
    "mlppreds = mlp.predict(X_test)\n",
    "print(metrics.mean_squared_error(mlppreds, Y_test))\n",
    "\n",
    "\n"
   ]
  },
  {
   "cell_type": "code",
   "execution_count": 9,
   "metadata": {},
   "outputs": [
    {
     "data": {
      "image/png": "[encoded data removed]",
      "text/plain": [
       "<Figure size 432x288 with 1 Axes>"
      ]
     },
     "metadata": {},
     "output_type": "display_data"
    }
   ],
   "source": [
    "mlp = MLPRegressor(\n",
    "    alpha=1e-6,\n",
    "    hidden_layer_sizes=(15,2),\n",
    "    max_iter=2000,\n",
    "    random_state=1,\n",
    "    solver='adam',\n",
    "    learning_rate_init = 0.003,\n",
    "    early_stopping = True\n",
    "    )\n",
    "mlp.fit(X_train,Y_train)\n",
    "mlppreds = mlp.predict(X_test)\n",
    "\n",
    "plt.scatter(mlppreds, Y_test)\n",
    "plt.show()"
   ]
  },
  {
   "cell_type": "markdown",
   "metadata": {},
   "source": [
    "Report:\n",
    "\n",
    "20% of the data was used for testing, and 80% was used for training.\n",
    "\n",
    "Scoring metric used was Mean Squared Error.\n",
    "\n",
    "The values used for the learning rates were 0.001, 0.003, and 0.005.\n",
    "The values used for the solver were adam and sgd.\n",
    "\n",
    "Using sgd, and learning rate 0.005 resulted in the following mean squared error:\n",
    "0.008152457594372711\n",
    "\n",
    "Using sgd, and learning rate 0.003 resulted in the following mean squared error:\n",
    "0.010570551999561119\n",
    "\n",
    "Using sgd, and learning rate 0.001 resulted in the following mean squared error:\n",
    "0.01877839572776674\n",
    "\n",
    "Using adam, and learning rate 0.005 resulted in the following mean squared error:\n",
    "0.004733176345439207\n",
    "\n",
    "Using adam, and learning rate 0.003 resulted in the following mean squared error:\n",
    "0.0036943687707376876\n",
    "\n",
    "Using adam, and learning rate 0.001 resulted in the following mean squared error:\n",
    "0.005525183654165619\n",
    "\n",
    "Using adam and setting the learning rate to 0.003 resulted in the lowest mean absolute error of 0.0037. The adam optimizer performed better despite all values of the learning rate.\n",
    "\n",
    "Early stopping was used as the regularization technique.\n",
    "\n",
    "The difference where the prediction and true values mismatch most was probably due to outliers, meaning points that do not lie within the overall curve. The reason those points were mismatched is because since while training most points resulted in a certain curve, and since the number of outliers is too low, they do not affect the overall curve of the line, and therefore they were mismatched."
   ]
  },
  {
   "cell_type": "code",
   "execution_count": null,
   "metadata": {},
   "outputs": [],
   "source": []
  }
 ],
 "metadata": {
  "kernelspec": {
   "display_name": "Python 3",
   "language": "python",
   "name": "python3"
  },
  "language_info": {
   "codemirror_mode": {
    "name": "ipython",
    "version": 3
   },
   "file_extension": ".py",
   "mimetype": "text/x-python",
   "name": "python",
   "nbconvert_exporter": "python",
   "pygments_lexer": "ipython3",
   "version": "3.6.5"
  }
 },
 "nbformat": 4,
 "nbformat_minor": 2
}
